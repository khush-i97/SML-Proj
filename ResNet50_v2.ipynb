{
 "cells": [
  {
   "cell_type": "code",
   "execution_count": null,
   "id": "dee08734",
   "metadata": {},
   "outputs": [],
   "source": [
    "#Importing libraries\n",
    "\n",
    "import os\n",
    "import torch\n",
    "import torch.nn as nn\n",
    "from torchvision import transforms, models\n",
    "from torch.utils.data import DataLoader, random_split\n",
    "from sklearn.preprocessing import LabelEncoder\n",
    "from PIL import Image\n",
    "import pandas as pd\n",
    "from torch.utils.data import Dataset"
   ]
  },
  {
   "cell_type": "code",
   "execution_count": null,
   "id": "a855c382",
   "metadata": {},
   "outputs": [],
   "source": [
    "# Dataset downloaded from kaggle. Kept in the below directory on the system\n",
    "# Original Database on kaggle\n",
    "# Replace and run the 'dataset path' command with this: dataset_path = kagglehub.dataset_download(\"kmader/skin-cancer-mnist-ham10000\")\n",
    "\n",
    "dataset_path = \"D:/MS/Sem3/CSE575_StatisticalMachineLearning/Project/archive\"\n",
    "image_dir = os.path.join(dataset_path, \"HAM10000_images\")\n",
    "csv_path = os.path.join(dataset_path, \"HAM10000_metadata.csv\")\n",
    "#The images in the dataset were in 2 folders, merged them into one.\n",
    "\n",
    "# Class for the dataset\n",
    "class SkinCancerDataset(Dataset):\n",
    "    def __init__(self, image_dir, csv_file, transform=None):\n",
    "        self.image_dir = image_dir\n",
    "        self.data = pd.read_csv(csv_file)\n",
    "        self.transform = transform\n",
    "        self.label_encoder = LabelEncoder()\n",
    "        self.data['label'] = self.label_encoder.fit_transform(self.data['dx'])\n",
    "\n",
    "    def __len__(self):\n",
    "        return len(self.data)\n",
    "\n",
    "    def __getitem__(self, idx):\n",
    "        img_name = os.path.join(self.image_dir, self.data.iloc[idx]['image_id'] + \".jpg\")\n",
    "        image = Image.open(img_name).convert(\"RGB\")\n",
    "        label = self.data.iloc[idx]['label']\n",
    "        if self.transform:\n",
    "            image = self.transform(image)\n",
    "        return image, label"
   ]
  },
  {
   "cell_type": "code",
   "execution_count": null,
   "id": "15d641d1",
   "metadata": {},
   "outputs": [],
   "source": [
    "# Resizing the dataset according to ResNet requirements\n",
    "#Normalizing according to standars ImageNet fromat.\n",
    "transform = transforms.Compose([\n",
    "    transforms.Resize((224, 224)),\n",
    "    transforms.ToTensor(),\n",
    "    transforms.Normalize(mean=[0.485, 0.456, 0.406],\n",
    "                         std=[0.229, 0.224, 0.225])\n",
    "])\n"
   ]
  },
  {
   "cell_type": "code",
   "execution_count": null,
   "id": "d846ada0",
   "metadata": {},
   "outputs": [],
   "source": [
    "# Splitting the database in 80-20 ratio. Creating objects for shuffling\n",
    "full_dataset = SkinCancerDataset(image_dir, csv_path, transform=transform)\n",
    "train_size = int(0.8 * len(full_dataset))\n",
    "val_size = len(full_dataset) - train_size\n",
    "train_dataset, val_dataset = random_split(full_dataset, [train_size, val_size])\n",
    "\n",
    "train_loader = DataLoader(train_dataset, batch_size=32, shuffle=True)\n",
    "val_loader = DataLoader(val_dataset, batch_size=32, shuffle=False)\n"
   ]
  },
  {
   "cell_type": "code",
   "execution_count": null,
   "id": "6d0d24f7",
   "metadata": {},
   "outputs": [
    {
     "name": "stderr",
     "output_type": "stream",
     "text": [
      "c:\\Users\\soham\\AppData\\Local\\Programs\\Python\\Python312\\Lib\\site-packages\\torchvision\\models\\_utils.py:208: UserWarning: The parameter 'pretrained' is deprecated since 0.13 and may be removed in the future, please use 'weights' instead.\n",
      "  warnings.warn(\n",
      "c:\\Users\\soham\\AppData\\Local\\Programs\\Python\\Python312\\Lib\\site-packages\\torchvision\\models\\_utils.py:223: UserWarning: Arguments other than a weight enum or `None` for 'weights' are deprecated since 0.13 and may be removed in the future. The current behavior is equivalent to passing `weights=ResNet50_Weights.IMAGENET1K_V1`. You can also use `weights=ResNet50_Weights.DEFAULT` to get the most up-to-date weights.\n",
      "  warnings.warn(msg)\n"
     ]
    }
   ],
   "source": [
    "# Pretrained ResNet50\n",
    "device = torch.device(\"cuda\" if torch.cuda.is_available() else \"cpu\")\n",
    "resnet = models.resnet50(pretrained=True)\n",
    "\n",
    "# Freexing layers, except last.\n",
    "for param in resnet.parameters():\n",
    "    param.requires_grad = False\n",
    "\n",
    "# Changing final layer to 7 labels for the output\n",
    "num_ftrs = resnet.fc.in_features\n",
    "resnet.fc = nn.Linear(num_ftrs, 7)  \n",
    "resnet = resnet.to(device)\n",
    "\n",
    "# Defining loss and optimize functions. \n",
    "# Using CrossEntropyLoss for multiclass classification\n",
    "# Using Adam optimizer\n",
    "criterion = nn.CrossEntropyLoss()\n",
    "optimizer = torch.optim.Adam(resnet.fc.parameters(), lr=0.001)\n"
   ]
  },
  {
   "cell_type": "code",
   "execution_count": null,
   "id": "818a67d6",
   "metadata": {},
   "outputs": [
    {
     "name": "stdout",
     "output_type": "stream",
     "text": [
      "Epoch 1/10 - Loss: 0.8679\n",
      "Epoch 2/10 - Loss: 0.7014\n",
      "Epoch 3/10 - Loss: 0.6503\n",
      "Epoch 4/10 - Loss: 0.6386\n",
      "Epoch 5/10 - Loss: 0.6201\n",
      "Epoch 6/10 - Loss: 0.6062\n",
      "Epoch 7/10 - Loss: 0.5849\n",
      "Epoch 8/10 - Loss: 0.5899\n",
      "Epoch 9/10 - Loss: 0.5693\n",
      "Epoch 10/10 - Loss: 0.5502\n"
     ]
    }
   ],
   "source": [
    "# Training the model for 10 epochs. \n",
    "# Doing forward pass, computing loss and backpropogating the loss.\n",
    "# Printing the loss per epoch\n",
    "\n",
    "epochs = 10\n",
    "for epoch in range(epochs):\n",
    "    resnet.train()\n",
    "    running_loss = 0\n",
    "    for images, labels in train_loader:\n",
    "        images, labels = images.to(device), labels.to(device)\n",
    "        optimizer.zero_grad()\n",
    "        outputs = resnet(images)\n",
    "        loss = criterion(outputs, labels)\n",
    "        loss.backward()\n",
    "        optimizer.step()\n",
    "        running_loss += loss.item()\n",
    "    print(f\"Epoch {epoch+1}/{epochs} - Loss: {running_loss/len(train_loader):.4f}\")\n"
   ]
  },
  {
   "cell_type": "code",
   "execution_count": null,
   "id": "a88b7346",
   "metadata": {},
   "outputs": [
    {
     "name": "stdout",
     "output_type": "stream",
     "text": [
      "Validation Accuracy: 77.68%\n"
     ]
    }
   ],
   "source": [
    "# Evvaluation\n",
    "# Comparing predictions with the labels and calculating the accuracy\n",
    "resnet.eval()\n",
    "correct = 0\n",
    "total = 0\n",
    "with torch.no_grad():\n",
    "    for images, labels in val_loader:\n",
    "        images, labels = images.to(device), labels.to(device)\n",
    "        outputs = resnet(images)\n",
    "        _, predicted = torch.max(outputs.data, 1)\n",
    "        total += labels.size(0)\n",
    "        correct += (predicted == labels).sum().item()\n",
    "\n",
    "print(f\"Validation Accuracy: {100 * correct / total:.2f}%\")"
   ]
  }
 ],
 "metadata": {
  "kernelspec": {
   "display_name": "Python 3",
   "language": "python",
   "name": "python3"
  },
  "language_info": {
   "codemirror_mode": {
    "name": "ipython",
    "version": 3
   },
   "file_extension": ".py",
   "mimetype": "text/x-python",
   "name": "python",
   "nbconvert_exporter": "python",
   "pygments_lexer": "ipython3",
   "version": "3.12.3"
  }
 },
 "nbformat": 4,
 "nbformat_minor": 5
}
